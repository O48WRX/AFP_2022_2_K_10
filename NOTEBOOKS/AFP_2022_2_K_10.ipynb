{
  "nbformat": 4,
  "nbformat_minor": 0,
  "metadata": {
    "colab": {
      "name": "AFP_2022_2_K_10.ipynb",
      "provenance": [],
      "collapsed_sections": []
    },
    "kernelspec": {
      "name": "python3",
      "display_name": "Python 3"
    },
    "language_info": {
      "name": "python"
    }
  },
  "cells": [
    {
      "cell_type": "markdown",
      "source": [
        "---\n",
        "># AFP_2022_2_K_10_Akropolisz Gépi tanulás framework\n",
        "---\n",
        "Hadobás Dávid (NK), Kardos Zsolt (O48WRX), Riczkó Henrik (D5GPJ6), Balogh Mihály Viktor (NK)\n",
        "---"
      ],
      "metadata": {
        "id": "AfNuiLPnSYmQ"
      }
    },
    {
      "cell_type": "code",
      "source": [
        "import math, numpy\n",
        "adatbazis_helye = \"\" #@param {type:\"string\"}\n",
        "#@markdown --- \n",
        "algoritmus = 'A' #@param [\"A\", \"B\", \"C\"]\n",
        "aktivaciosfgv = 'sigmoid' #@param ['tanh', 'sigmoid']\n",
        "print('Választott algoritmus: ', algoritmus)\n",
        "print('Választott aktivációs függvény: ', aktivaciosfgv)"
      ],
      "metadata": {
        "colab": {
          "base_uri": "https://localhost:8080/"
        },
        "id": "c-t_tKyeA1ac",
        "outputId": "8392d6ef-68ce-4005-c378-08856069854d"
      },
      "execution_count": 2,
      "outputs": [
        {
          "output_type": "stream",
          "name": "stdout",
          "text": [
            "Választott algoritmus:  A\n",
            "Választott aktivációs függvény:  sigmoid\n"
          ]
        }
      ]
    },
    {
      "cell_type": "code",
      "source": [
        "if aktivaciosfgv == 'tanh':\n",
        "  def activation(x):\n",
        "    return numpy.tanh(x)\n",
        "  def dactivation(x):\n",
        "    return 1.0 - x**2\n",
        "elif aktivaciosfgv == 'sigmoid':\n",
        "  def activation(x):\n",
        "    return 1.0/(1.0 + numpy.exp(-x))\n",
        "  def dactivation(x):\n",
        "    return x*(1.0-x)\n",
        "\n",
        "'''Bővíthetőség miatt maradnak elif-ek'''\n",
        "if algoritmus == 'A':\n",
        "  acti, dacti = activation, dactivation\n",
        "\n",
        "  '''Ide jöhet majd az adatbázis olvasás'''\n",
        "  #samples = [[[0, 0], [0, 0]], [[0, 1], [0, 1]], [[1, 0], [0, 1]], [[1, 1], [1, 1]]]   # AND és OR\n",
        "  samples = [ [[0, 0], [0, 0, 0]], [[0, 1], [0, 1, 1]], [[1, 0], [0, 1, 1]], [[1, 1], [1, 1, 0]] ]  # AND, OR és XOR\n",
        "\n",
        "  B = 1\n",
        "  nn = [len(samples[0][0])+B, 4, 3, len(samples[0][1])]\n",
        "  wl = [ numpy.random.random((nn[l+1], nn[l]))*0.8-0.4 for l in range(len(nn)-1)] \n",
        "  delta = [numpy.zeros((nn[l+1])) for l in range(len(nn)-1)]\n",
        "\n",
        "  epoch = 0\n",
        "  sumerr = 1.0\n",
        "  while sumerr>=0.01 and epoch<=10000:\n",
        "    sumerr = 0.0\n",
        "    epoch += 1\n",
        "    #for inp, out in random.sample(samples, len(samples)):\n",
        "    for inp, out in samples:\n",
        "        nl = [ numpy.array(inp + [1.0]*B) ]\n",
        "        for l in range(len(nn)-1):\n",
        "            nl.append(acti(numpy.dot(wl[l],nl[l])))\n",
        "        error = out - nl[-1]\n",
        "        #delta = [None for _ in range(len(nn)-1)]\n",
        "        for l in reversed(range(len(nn)-1)):\n",
        "            if l == len(nn)-2:\n",
        "                #delta[l] = error*dacti(nl[-1])\n",
        "                delta[l][:] = error*dacti(nl[-1])\n",
        "            else:\n",
        "                #delta[l] = numpy.dot(delta[l+1],wl[l+1])*dacti(nl[l+1])\n",
        "                numpy.dot(delta[l+1],wl[l+1], out=delta[l])\n",
        "                delta[l] *= dacti(nl[l+1])\n",
        "            \n",
        "            wl[l] += 0.5 * delta[l].reshape((nn[l+1],1))*nl[l].reshape((1,nn[l]))\n",
        "\n",
        "        sumerr += sum(error**2)\n",
        "    #print (epoch,sumerr)\n",
        "  print (epoch,sumerr)\n",
        "elif algoritmus == 'B':\n",
        "  '''something happens'''\n",
        "elif algoritmus == 'C':\n",
        "  '''something happens'''"
      ],
      "metadata": {
        "colab": {
          "base_uri": "https://localhost:8080/"
        },
        "id": "_xUjgAUsUb6Q",
        "outputId": "d0b6403a-5077-44cb-da57-16373f0b8284"
      },
      "execution_count": 7,
      "outputs": [
        {
          "output_type": "stream",
          "name": "stdout",
          "text": [
            "3808 0.009997080669309617\n"
          ]
        }
      ]
    }
  ]
}