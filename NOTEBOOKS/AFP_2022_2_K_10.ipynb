{
  "nbformat": 4,
  "nbformat_minor": 0,
  "metadata": {
    "colab": {
      "name": "AFP_2022_2_K_10.ipynb",
      "provenance": [],
      "collapsed_sections": []
    },
    "kernelspec": {
      "name": "python3",
      "display_name": "Python 3"
    },
    "language_info": {
      "name": "python"
    }
  },
  "cells": [
    {
      "cell_type": "code",
      "source": [
        "adatbazis_helye = \"\" #@param {type:\"string\"}\n",
        "#@markdown --- \n",
        "algoritmus = 'A' #@param [\"A\", \"B\", \"C\"]\n",
        "aktivaciosfgv = 'sigmoid' #@param ['tanh', 'sigmoid']\n",
        "print('Választott algoritmus: ', algoritmus)\n",
        "print('Választott aktivációs függvény: ', aktivaciosfgv)"
      ],
      "metadata": {
        "colab": {
          "base_uri": "https://localhost:8080/"
        },
        "id": "c-t_tKyeA1ac",
        "outputId": "d8f385b5-821e-462e-9c8b-feecbb7cfa17"
      },
      "execution_count": 1,
      "outputs": [
        {
          "output_type": "stream",
          "name": "stdout",
          "text": [
            "Választott algoritmus:  A\n",
            "Választott aktivációs függvény:  sigmoid\n"
          ]
        }
      ]
    }
  ]
}