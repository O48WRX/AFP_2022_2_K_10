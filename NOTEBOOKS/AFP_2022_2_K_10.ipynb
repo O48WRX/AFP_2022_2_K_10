{
  "nbformat": 4,
  "nbformat_minor": 0,
  "metadata": {
    "colab": {
      "name": "AFP_2022_2_K_10.ipynb",
      "provenance": [],
      "collapsed_sections": []
    },
    "kernelspec": {
      "name": "python3",
      "display_name": "Python 3"
    },
    "language_info": {
      "name": "python"
    }
  },
  "cells": [
    {
      "cell_type": "markdown",
      "source": [
        "---\n",
        "># AFP_2022_2_K_10_Akropolisz Gépi tanulás framework\n",
        "---\n",
        "Hadobás Dávid (TB3376), Kardos Zsolt (O48WRX), Riczkó Henrik (D5GPJ6), Balogh Mihály Viktor (GUFVXA)\n",
        "---"
      ],
      "metadata": {
        "id": "AfNuiLPnSYmQ"
      }
    },
    {
      "cell_type": "code",
      "source": [
        "import math, numpy, random\n",
        "adatbazis_helye = \"xd\" #@param {type:\"string\"}\n",
        "#@markdown --- \n",
        "algoritmus = 'A' #@param [\"A\", \"B\", \"C\"]\n",
        "aktivaciosfgv = 'sigmoid' #@param ['tanh', 'sigmoid']\n",
        "Bs = 0 #@param {type:\"number\"}\n",
        "nnszelesseg = 4 #@param {type:\"number\"}\n",
        "nnmagassag = 3 #@param {type:\"number\"}\n",
        "sulymin = 5 #@param {type:\"number\"}\n",
        "sulymax = 7 #@param {type:\"number\"}\n",
        "print('Választott algoritmus: ', algoritmus)\n",
        "print('Választott aktivációs függvény: ', aktivaciosfgv)\n",
        "print('Választott BIAS: ', Bs)\n",
        "print('Választott szélesség: ', nnszelesseg)"
      ],
      "metadata": {
        "colab": {
          "base_uri": "https://localhost:8080/"
        },
        "id": "c-t_tKyeA1ac",
        "outputId": "0c930134-05db-4e20-eaa9-dfd99d51dca9"
      },
      "execution_count": 2,
      "outputs": [
        {
          "output_type": "stream",
          "name": "stdout",
          "text": [
            "Választott algoritmus:  A\n",
            "Választott aktivációs függvény:  sigmoid\n"
          ]
        }
      ]
    },
    {
      "cell_type": "markdown",
      "source": [
        "## Jelen állapotban az első kódblokkot a drop-down menük opciói kiválasztása után újra kell futtatni!!!!"
      ],
      "metadata": {
        "id": "FSAW3A6LasrK"
      }
    },
    {
      "cell_type": "code",
      "source": [
        "if aktivaciosfgv == 'tanh':\n",
        "  def activation(x):\n",
        "    return numpy.tanh(x)\n",
        "  def dactivation(x):\n",
        "    return 1.0 - x**2\n",
        "elif aktivaciosfgv == 'sigmoid':\n",
        "  def activation(x):\n",
        "    return 1.0/(1.0 + numpy.exp(-x))\n",
        "  def dactivation(x):\n",
        "    return x*(1.0-x)\n",
        "\n",
        "'''Bővíthetőség miatt maradnak elif-ek'''\n",
        "if algoritmus == 'A':\n",
        "  acti, dacti = activation, dactivation\n",
        "\n",
        "  ''' Zsolti: Ide jöhet majd az adatbázis olvasás '''\n",
        "  #samples = [[[0, 0], [0, 0]], [[0, 1], [0, 1]], [[1, 0], [0, 1]], [[1, 1], [1, 1]]]   # AND / OR\n",
        "  samples = [ [[0, 0], [0, 0, 0]], [[0, 1], [0, 1, 1]], [[1, 0], [0, 1, 1]], [[1, 1], [1, 1, 0]] ]  # AND / OR / XOR\n",
        "  #samples = numpy.loadtxt(fname=\"db.csv\", delimiter=\",\") //a CSV olvasáshoz\n",
        "\n",
        "  B = Bs\n",
        "  nn = [len(samples[0][0])+B, nnszelesseg, nnmagassag, len(samples[0][1])]\n",
        "  if sulymax<sulymin:\n",
        "    print('hiba')\n",
        "  wl = [ numpy.random.random((nn[l+1], nn[l]))*sulymax-sulymin for l in range(len(nn)-1)] \n",
        "  delta = [numpy.zeros((nn[l+1])) for l in range(len(nn)-1)]\n",
        "\n",
        "  epoch = 0\n",
        "  sumerr = 1.0\n",
        "  while sumerr>=0.01 and epoch<=10000:\n",
        "    sumerr = 0.0\n",
        "    epoch += 1\n",
        "    for inp, out in samples:\n",
        "        nl = [ numpy.array(inp + [1.0]*B) ]\n",
        "        for l in range(len(nn)-1):\n",
        "            nl.append(acti(numpy.dot(wl[l],nl[l])))\n",
        "        error = out - nl[-1]\n",
        "        for l in reversed(range(len(nn)-1)):\n",
        "            if l == len(nn)-2:\n",
        "                delta[l][:] = error*dacti(nl[-1])\n",
        "            else:\n",
        "                numpy.dot(delta[l+1],wl[l+1], out=delta[l])\n",
        "                delta[l] *= dacti(nl[l+1])\n",
        "            wl[l] += 0.5 * delta[l].reshape((nn[l+1],1))*nl[l].reshape((1,nn[l]))\n",
        "        sumerr += sum(error**2)\n",
        "  print (epoch,sumerr)\n",
        "elif algoritmus == 'B':\n",
        "\n",
        "  acti, dacti = activation, dactivation\n",
        "  #Adatbázist ide - Henrik\n",
        "  #samples = [[[0, 0], [0, 0]], [[0, 1], [0, 1]], [[1, 0], [0, 1]], [[1, 1], [1, 1]]]   # AND és OR\n",
        "  samples = [ [[0, 0], [0, 0, 0]], [[0, 1], [0, 1, 1]], [[1, 0], [0, 1, 1]], [[1, 1], [1, 1, 0]] ]  # AND, OR és XOR\n",
        "  #samples = numpy.loadtxt(fname=\"db.csv\", delimiter=\",\") //a CSV olvasáshoz\n",
        "\n",
        "  B = Bs\n",
        "  nn = [len(samples[0][0])+B, nnszelesseg, nnmagassag, len(samples[0][1])]\n",
        "  wl=[ [ [random.random()*sulymax-sulymin for _ in range(nn[l])] for _ in range(nn[l+1])] for l in range(len(nn)-1)] \n",
        "  epoch = 0\n",
        "  sumerr = 1.0\n",
        "  while sumerr>=0.01 and epoch<=10000:\n",
        "      sumerr = 0.0\n",
        "      epoch += 1\n",
        "      for inp, out in samples:\n",
        "          nl = [ inp + [1.0]*B ]\n",
        "          for l in range(len(nn)-1):\n",
        "              nl.append([acti(sum([nl[l][i] * wl[l][j][i] for i in range(nn[l])])) for j in range(nn[l+1])])\n",
        "              \n",
        "          error = [out[j] - nl[-1][j] for j in range(nn[-1])]\n",
        "          delta = [None for _ in range(len(nn)-1)]\n",
        "          for l in reversed(range(len(nn)-1)):\n",
        "              if l == len(nn)-2:\n",
        "                  delta[l] = [error[j] * dacti(nl[-1][j]) for j in range(nn[-1])]\n",
        "              else:\n",
        "                  delta[l] = [sum([delta[l+1][j] * wl[l+1][j][i] for j in range(nn[l+2])])*dacti(nl[l+1][i]) for i in range(nn[l+1])]\n",
        "              \n",
        "              for i in range(nn[l]):\n",
        "                  for j in range(nn[l+1]):\n",
        "                      wl[l][j][i] += 0.5 * delta[l][j] * nl[l][i]\n",
        "\n",
        "          sumerr += sum( [error[j]**2 for j in range(nn[-1])])\n",
        "  print (epoch,sumerr)\n",
        "\n",
        "elif algoritmus == 'C':\n",
        "  acti, dacti = activation, dactivation\n",
        "\n",
        "  w1 = [random.random()*sulymax-sulymin for _ in range(3)]\n",
        "  #Adatbázist ide - Henrik\n",
        "  #samples = [[[0.0, 0.0], 0.0], [[0.0, 1.0], 1.0], [[1.0, 0.0], 1.0], [[1.0, 1.0], 1.0]] OR\n",
        "  samples = [[[0.0, 0.0], 0.0], [[0.0, 1.0], 0.0], [[1.0, 0.0], 0.0], [[1.0, 1.0], 1.0]] #AND\n",
        "  #samples = [[[0.0, 0.0], 0.0], [[0.0, 1.0], 1.0], [[1.0, 0.0], 1.0], [[1.0, 1.0], 0.0]] XOR\n",
        "  #samples = numpy.loadtxt(fname=\"db.csv\", delimiter=\",\") //a CSV olvasáshoz\n",
        "\n",
        "  for _ in range(100):\n",
        "      sumerr = 0.0\n",
        "      for inp, out in samples:\n",
        "          x = inp + [1.0]\n",
        "          y = acti(sum([x[i] * w1[i] for i in range(3)]))\n",
        "          error = (out - y)\n",
        "          delta = error * dacti(y)\n",
        "          for i in range(3):\n",
        "              w1[i] += 0.8 * delta * x[i]\n",
        "          sumerr += (y-out)**2\n",
        "      print (sumerr)"
      ],
      "metadata": {
        "colab": {
          "base_uri": "https://localhost:8080/"
        },
        "id": "_xUjgAUsUb6Q",
        "outputId": "ef707513-2971-42e5-94c2-220ca3713df2"
      },
      "execution_count": null,
      "outputs": [
        {
          "output_type": "stream",
          "name": "stdout",
          "text": [
            "hiba\n",
            "10001 3.0\n"
          ]
        }
      ]
    }
  ]
}