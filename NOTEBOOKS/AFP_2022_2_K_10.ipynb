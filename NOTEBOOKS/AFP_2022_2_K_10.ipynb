{
  "nbformat": 4,
  "nbformat_minor": 0,
  "metadata": {
    "colab": {
      "name": "AFP_2022_2_K_10.ipynb",
      "provenance": [],
      "collapsed_sections": []
    },
    "kernelspec": {
      "name": "python3",
      "display_name": "Python 3"
    },
    "language_info": {
      "name": "python"
    }
  },
  "cells": [
    {
      "cell_type": "code",
      "source": [
        "adatbazis_helye = \"\" #@param {type:\"string\"}\n",
        "#@markdown --- \n",
        "algoritmus = 'A' #@param [\"A\", \"B\", \"C\"]\n",
        "aktivaciosfgv = 'sigmoid' #@param ['tanh', 'sigmoid']\n",
        "print('Választott algoritmus: ', algoritmus)"
      ],
      "metadata": {
        "colab": {
          "base_uri": "https://localhost:8080/"
        },
        "id": "c-t_tKyeA1ac",
        "outputId": "44ad8d06-2c60-4174-cdf0-e72f87a16e9a"
      },
      "execution_count": null,
      "outputs": [
        {
          "output_type": "stream",
          "name": "stdout",
          "text": [
            "Választott algoritmus:  B\n"
          ]
        }
      ]
    }
  ]
}