{
  "nbformat": 4,
  "nbformat_minor": 0,
  "metadata": {
    "colab": {
      "name": "AFP_2022_2_K_10.ipynb",
      "provenance": [],
      "collapsed_sections": []
    },
    "kernelspec": {
      "name": "python3",
      "display_name": "Python 3"
    },
    "language_info": {
      "name": "python"
    }
  },
  "cells": [
    {
      "cell_type": "markdown",
      "source": [
        "---\n",
        "># AFP_2022_2_K_10_Akropolisz Gépi tanulás framework\n",
        "---\n",
        "Hadobás Dávid (NK), Kardos Zsolt (O48WRX), Riczkó Henrik (D5GPJ6), Balogh Mihály Viktor (NK)\n",
        "---"
      ],
      "metadata": {
        "id": "AfNuiLPnSYmQ"
      }
    },
    {
      "cell_type": "code",
      "source": [
        "import math, numpy\n",
        "adatbazis_helye = \"\" #@param {type:\"string\"}\n",
        "#@markdown --- \n",
        "algoritmus = 'A' #@param [\"A\", \"B\", \"C\"]\n",
        "aktivaciosfgv = 'sigmoid' #@param ['tanh', 'sigmoid']\n",
        "print('Választott algoritmus: ', algoritmus)\n",
        "print('Választott aktivációs függvény: ', aktivaciosfgv)"
      ],
      "metadata": {
        "colab": {
          "base_uri": "https://localhost:8080/"
        },
        "id": "c-t_tKyeA1ac",
        "outputId": "8392d6ef-68ce-4005-c378-08856069854d"
      },
      "execution_count": 2,
      "outputs": [
        {
          "output_type": "stream",
          "name": "stdout",
          "text": [
            "Választott algoritmus:  A\n",
            "Választott aktivációs függvény:  sigmoid\n"
          ]
        }
      ]
    }
  ]
}